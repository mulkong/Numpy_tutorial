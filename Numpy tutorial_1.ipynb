{
 "cells": [
  {
   "cell_type": "markdown",
   "metadata": {},
   "source": [
    "# Numpy\n",
    "\n",
    "## 1. Numpy란?\n",
    "- Numerical Python의 약자로 다차원의 배열과 행렬 연산에 필요한 다양한 함수들을 제공을 한다.\n",
    "- Memory buffer에 배열을 저장하고 처리하는 효율적인 인터페이스를 제공한다.\n",
    "- python에서 기존 **_list_** 라는 개념이 존재한다. 그러나 list를 사용하는 것 보다 **_Numpy array_** 객체를 사용하는것이 더 효율적이고 많은 데이터를 빠르게 처리할 수 있다.\n",
    "- Broadcast가 가능하다.\n"
   ]
  },
  {
   "cell_type": "markdown",
   "metadata": {},
   "source": [
    "## 2. Numpy array"
   ]
  },
  {
   "cell_type": "code",
   "execution_count": 1,
   "metadata": {},
   "outputs": [
    {
     "name": "stdout",
     "output_type": "stream",
     "text": [
      "numpy version :  1.17.2\n"
     ]
    }
   ],
   "source": [
    "import numpy as np\n",
    "\n",
    "print(\"numpy version : \", np.__version__) "
   ]
  },
  {
   "cell_type": "markdown",
   "metadata": {},
   "source": [
    "버전마다 numpy의 사용법이 다르다. 그래서 보통 코드를 구현할때는 두가지 방법을 사용한다.\n",
    "- 도커이미지를 만들어서 사용한다.\n",
    "- 패키지 버전을 재설치한다."
   ]
  },
  {
   "cell_type": "markdown",
   "metadata": {},
   "source": [
    "![](./image/numpy_N_array.png)\n",
    "\n",
    "Numpy에서는 N차원 배열의 데이터 방향을 axis로 지정이 가능합니다."
   ]
  },
  {
   "cell_type": "markdown",
   "metadata": {},
   "source": [
    "## 3. Numpy array 생성"
   ]
  },
  {
   "cell_type": "code",
   "execution_count": 2,
   "metadata": {},
   "outputs": [
    {
     "name": "stdout",
     "output_type": "stream",
     "text": [
      "arr_list의 타입 :  <class 'list'>\n",
      "arr_list의 크기 :  3\n",
      "arr_numpy의 타입 :  <class 'numpy.ndarray'>\n",
      "arr_numpy의 크기 :  (3,)\n"
     ]
    }
   ],
   "source": [
    "import numpy as np\n",
    "\n",
    "# list로 생성하는 배열\n",
    "arr_list = [1, 2, 3] \n",
    "print(\"arr_list의 타입 : \", type(arr_list))\n",
    "print(\"arr_list의 크기 : \", len(arr_list))\n",
    "\n",
    "#numpy로 생성하는 배열\n",
    "arr_numpy = np.array([1, 2, 3])\n",
    "print(\"arr_numpy의 타입 : \", type(arr_numpy))\n",
    "print(\"arr_numpy의 크기 : \", arr_numpy.shape)"
   ]
  },
  {
   "cell_type": "markdown",
   "metadata": {},
   "source": [
    "### 3-1. 1차원 배열이지만, [N, 1]로 만들기\n",
    "##### [1, 2, 3]이 1차원 배열이긴 하지만 shape을 찍어보면 (3, )이런식으로 나오게 된다. 이렇게 되면 이미지 출력도 불가하며 나중에 딥러닝 관련 파이썬 코드를 짤대도 제한적인게 많다.\n",
    "##### 그래서 여기서는, **_뒤에 1을 붙여주는 방법을 해볼것이다_** --> dim=1 설정"
   ]
  },
  {
   "cell_type": "code",
   "execution_count": 3,
   "metadata": {},
   "outputs": [
    {
     "name": "stdout",
     "output_type": "stream",
     "text": [
      "arr_numpy의 크기 :  (3,)\n",
      "arr_numpy의 크기 :  (3, 1)\n",
      "[[1]\n",
      " [2]\n",
      " [3]]\n"
     ]
    }
   ],
   "source": [
    "print(\"arr_numpy의 크기 : \", arr_numpy.shape)\n",
    "arr_numpy = np.array(arr_numpy).reshape(-1, 1)\n",
    "print(\"arr_numpy의 크기 : \", arr_numpy.shape)\n",
    "print(arr_numpy)"
   ]
  },
  {
   "cell_type": "markdown",
   "metadata": {},
   "source": [
    "### 3-2. 2차원 배열 만들기\n",
    "#### 1) 직접 값을 지정하기"
   ]
  },
  {
   "cell_type": "code",
   "execution_count": 4,
   "metadata": {},
   "outputs": [
    {
     "name": "stdout",
     "output_type": "stream",
     "text": [
      "[[1. 2. 3.]\n",
      " [4. 5. 6.]]\n",
      "arr_numpy 타입 :  <class 'numpy.ndarray'>\n",
      "arr_numpy 크기 :  (2, 3)\n"
     ]
    }
   ],
   "source": [
    "arr_numpy = np.array([[1, 2, 3], [4, 5, 6]], dtype='float32')\n",
    "print(arr_numpy)\n",
    "print(\"arr_numpy 타입 : \", type(arr_numpy))\n",
    "print(\"arr_numpy 크기 : \", arr_numpy.shape)"
   ]
  },
  {
   "cell_type": "markdown",
   "metadata": {},
   "source": [
    "#### 2) 랜덤하게 값 지정"
   ]
  },
  {
   "cell_type": "code",
   "execution_count": 5,
   "metadata": {},
   "outputs": [
    {
     "name": "stdout",
     "output_type": "stream",
     "text": [
      "arr_numpy 타입 :  <class 'numpy.ndarray'>\n",
      "arr_numpy 크기 :  (5, 3)\n",
      "[[0.56796183 0.2067896  0.79748959]\n",
      " [0.6965158  0.94781443 0.34902608]\n",
      " [0.21841004 0.03997646 0.77530683]\n",
      " [0.82573369 0.12060541 0.91310266]\n",
      " [0.35858601 0.20851982 0.96047578]]\n"
     ]
    }
   ],
   "source": [
    "arr_numpy = np.random.rand(5, 3)\n",
    "print(\"arr_numpy 타입 : \", type(arr_numpy))\n",
    "print(\"arr_numpy 크기 : \", arr_numpy.shape)\n",
    "print(arr_numpy)"
   ]
  },
  {
   "cell_type": "markdown",
   "metadata": {},
   "source": [
    "### 3-3. 3차원 배열 만들기"
   ]
  },
  {
   "cell_type": "code",
   "execution_count": 6,
   "metadata": {},
   "outputs": [
    {
     "name": "stdout",
     "output_type": "stream",
     "text": [
      "[[[1. 2. 3.]\n",
      "  [4. 5. 6.]\n",
      "  [7. 8. 9.]]]\n",
      "arr_numpy 타입 :  <class 'numpy.ndarray'>\n",
      "arr_numpy 크기 :  (1, 3, 3)\n"
     ]
    }
   ],
   "source": [
    "arr_numpy = np.array([[[1, 2, 3], [4, 5, 6], [7, 8, 9]]], dtype='float32')\n",
    "\n",
    "print(arr_numpy)\n",
    "print(\"arr_numpy 타입 : \", type(arr_numpy))\n",
    "print(\"arr_numpy 크기 : \", arr_numpy.shape)"
   ]
  },
  {
   "cell_type": "markdown",
   "metadata": {},
   "source": [
    "#### 1) shape 변경하기\n",
    "출력된거 보면 (1, 3, 3)으로 출력된것을 볼 수 있다. 딥러닝에서 이미지 처리를 할때는 보통 (W, H, C)순으로 만들고 처리를 한다. 그래서 여기서는 (1, 3, 3) --> (3, 3, 1)로 만들고 이것을 matplotlib을 이용해서 출력을 해볼것이다.\n",
    "\n",
    "* 참고로, (3, 3, 1)인 dim=1인 상태에서는 이미지 출력이 불가해서 (3, 3)으로 만들어준 후 출력을 해야한다."
   ]
  },
  {
   "cell_type": "code",
   "execution_count": 7,
   "metadata": {},
   "outputs": [
    {
     "name": "stdout",
     "output_type": "stream",
     "text": [
      "[[[1.]\n",
      "  [2.]\n",
      "  [3.]]\n",
      "\n",
      " [[4.]\n",
      "  [5.]\n",
      "  [6.]]\n",
      "\n",
      " [[7.]\n",
      "  [8.]\n",
      "  [9.]]]\n",
      "arr_numpy 타입 :  <class 'numpy.ndarray'>\n",
      "arr_numpy 크기 :  (3, 3, 1)\n"
     ]
    }
   ],
   "source": [
    "import matplotlib.pyplot as plt\n",
    "\n",
    "arr_numpy_transpose = np.transpose(arr_numpy, (1, 2, 0))\n",
    "print(arr_numpy_transpose)\n",
    "print(\"arr_numpy 타입 : \", type(arr_numpy_transpose))\n",
    "print(\"arr_numpy 크기 : \", arr_numpy_transpose.shape)"
   ]
  },
  {
   "cell_type": "code",
   "execution_count": 8,
   "metadata": {},
   "outputs": [
    {
     "name": "stdout",
     "output_type": "stream",
     "text": [
      "[[1. 2. 3.]\n",
      " [4. 5. 6.]\n",
      " [7. 8. 9.]]\n"
     ]
    },
    {
     "data": {
      "text/plain": [
       "<matplotlib.image.AxesImage at 0x11f6e2c50>"
      ]
     },
     "execution_count": 8,
     "metadata": {},
     "output_type": "execute_result"
    },
    {
     "data": {
      "image/png": "[encoded data removed]",
      "text/plain": [
       "<Figure size 432x288 with 1 Axes>"
      ]
     },
     "metadata": {
      "needs_background": "light"
     },
     "output_type": "display_data"
    }
   ],
   "source": [
    "arr_numpy_transpose = arr_numpy_transpose.squeeze()\n",
    "print(arr_numpy_transpose)\n",
    "plt.imshow(arr_numpy_transpose, cmap='gray')"
   ]
  },
  {
   "cell_type": "markdown",
   "metadata": {},
   "source": [
    "## 4. 배열 초기화 후 생성\n",
    "\n",
    "이 내용은, 처음에 배열을 1이든 0이든 우선 초기화한 후 생성을 해주고 나중에 해당 값에다가 값을 넣어주는 방식이다."
   ]
  },
  {
   "cell_type": "markdown",
   "metadata": {},
   "source": [
    "### 4-1. np.zeros()"
   ]
  },
  {
   "cell_type": "code",
   "execution_count": 9,
   "metadata": {},
   "outputs": [
    {
     "name": "stdout",
     "output_type": "stream",
     "text": [
      "arr_zeros의 타입 :  <class 'numpy.ndarray'>\n",
      "arr_zeros의 크기 :  (3, 4)\n"
     ]
    }
   ],
   "source": [
    "arr_zeros = np.zeros([3, 4])\n",
    "print(\"arr_zeros의 타입 : \", type(arr_zeros))\n",
    "print(\"arr_zeros의 크기 : \", arr_zeros.shape)"
   ]
  },
  {
   "cell_type": "markdown",
   "metadata": {},
   "source": [
    "### 4-2. np.ones()"
   ]
  },
  {
   "cell_type": "code",
   "execution_count": 10,
   "metadata": {},
   "outputs": [
    {
     "name": "stdout",
     "output_type": "stream",
     "text": [
      "arr_ones의 타입 :  <class 'numpy.ndarray'>\n",
      "arr_ones의 크기 :  (3, 4)\n"
     ]
    }
   ],
   "source": [
    "arr_ones = np.ones([3, 4])\n",
    "print(\"arr_ones의 타입 : \", type(arr_ones))\n",
    "print(\"arr_ones의 크기 : \", arr_ones.shape)"
   ]
  },
  {
   "cell_type": "markdown",
   "metadata": {},
   "source": [
    "### 4-3. np.full()\n",
    "지정된 shape의 배열을 생성하고 지정해준 값으로 전체 초기화를 해준다."
   ]
  },
  {
   "cell_type": "code",
   "execution_count": 11,
   "metadata": {},
   "outputs": [
    {
     "name": "stdout",
     "output_type": "stream",
     "text": [
      "arr_full_int의 타입 :  <class 'numpy.ndarray'>\n",
      "arr_full_int의 크기 :  (3, 4)\n",
      "[[4 4 4 4]\n",
      " [4 4 4 4]\n",
      " [4 4 4 4]]\n"
     ]
    }
   ],
   "source": [
    "arr_full_int = np.full([3, 4], 4)\n",
    "print(\"arr_full_int의 타입 : \", type(arr_full_int))\n",
    "print(\"arr_full_int의 크기 : \", arr_full_int.shape)\n",
    "print(arr_full_int)"
   ]
  },
  {
   "cell_type": "code",
   "execution_count": 12,
   "metadata": {},
   "outputs": [
    {
     "name": "stdout",
     "output_type": "stream",
     "text": [
      "arr_full_float의 타입 :  <class 'numpy.ndarray'>\n",
      "arr_full_float의 크기 :  (3, 4)\n",
      "[[4. 4. 4. 4.]\n",
      " [4. 4. 4. 4.]\n",
      " [4. 4. 4. 4.]]\n"
     ]
    }
   ],
   "source": [
    "arr_full_float = np.full([3, 4], 4.)\n",
    "print(\"arr_full_float의 타입 : \", type(arr_full_float))\n",
    "print(\"arr_full_float의 크기 : \", arr_full_float.shape)\n",
    "print(arr_full_float)"
   ]
  },
  {
   "cell_type": "markdown",
   "metadata": {},
   "source": [
    "### 4-4. np.eye()\n",
    "(N, N) shape의 단위 행렬(Unit Matrix)생성"
   ]
  },
  {
   "cell_type": "code",
   "execution_count": 13,
   "metadata": {},
   "outputs": [
    {
     "name": "stdout",
     "output_type": "stream",
     "text": [
      "[[1. 0. 0. 0.]\n",
      " [0. 1. 0. 0.]\n",
      " [0. 0. 1. 0.]\n",
      " [0. 0. 0. 1.]]\n"
     ]
    },
    {
     "data": {
      "text/plain": [
       "<matplotlib.image.AxesImage at 0x11f801438>"
      ]
     },
     "execution_count": 13,
     "metadata": {},
     "output_type": "execute_result"
    },
    {
     "data": {
      "image/png": "[encoded data removed]",
      "text/plain": [
       "<Figure size 432x288 with 1 Axes>"
      ]
     },
     "metadata": {
      "needs_background": "light"
     },
     "output_type": "display_data"
    }
   ],
   "source": [
    "arr_eye = np.eye(4)\n",
    "print(arr_eye)\n",
    "plt.imshow(arr_eye, cmap='gray')"
   ]
  },
  {
   "cell_type": "markdown",
   "metadata": {},
   "source": [
    "### 4-5. np.empty()\n",
    "배열 값으로 초기화 해주지 않고 지정된 shape 크기로만 배열을 생성.\n",
    "- 가장 비용이 저렴하고 빠르다.\n",
    "- 그렇지만, 해당 배열로 다른 값을 넣어줄때 주의해야할 필요가 있다."
   ]
  },
  {
   "cell_type": "code",
   "execution_count": 14,
   "metadata": {},
   "outputs": [
    {
     "name": "stdout",
     "output_type": "stream",
     "text": [
      "[[4. 4. 4. 4.]\n",
      " [4. 4. 4. 4.]\n",
      " [4. 4. 4. 4.]]\n"
     ]
    }
   ],
   "source": [
    "arr_empty = np.empty([3, 4])\n",
    "print(arr_empty)"
   ]
  },
  {
   "cell_type": "markdown",
   "metadata": {},
   "source": [
    "### 4-6. np.?_like()\n",
    "\n",
    "like 함수들은 지정된 np_array의 shape과 같은 배열을 만드는 함수이다."
   ]
  },
  {
   "cell_type": "code",
   "execution_count": 15,
   "metadata": {},
   "outputs": [
    {
     "name": "stdout",
     "output_type": "stream",
     "text": [
      "[[0. 0. 0.]\n",
      " [0. 0. 0.]]\n"
     ]
    }
   ],
   "source": [
    "arr = np.array([[1, 2, 3], [3, 4, 5]], dtype='float32')\n",
    "arr_zeros = np.zeros_like(arr)\n",
    "print(arr_zeros)"
   ]
  },
  {
   "cell_type": "code",
   "execution_count": 16,
   "metadata": {},
   "outputs": [
    {
     "name": "stdout",
     "output_type": "stream",
     "text": [
      "[[1. 1. 1.]\n",
      " [1. 1. 1.]]\n"
     ]
    }
   ],
   "source": [
    "arr_ones = np.ones_like(arr)\n",
    "print(arr_ones)"
   ]
  },
  {
   "cell_type": "code",
   "execution_count": 17,
   "metadata": {},
   "outputs": [
    {
     "name": "stdout",
     "output_type": "stream",
     "text": [
      "[[5. 5. 5.]\n",
      " [5. 5. 5.]]\n"
     ]
    }
   ],
   "source": [
    "arr_full = np.full_like(arr, 5)\n",
    "print(arr_full)"
   ]
  },
  {
   "cell_type": "code",
   "execution_count": 18,
   "metadata": {},
   "outputs": [
    {
     "name": "stdout",
     "output_type": "stream",
     "text": [
      "[[5. 5. 5.]\n",
      " [5. 5. 5.]]\n"
     ]
    }
   ],
   "source": [
    "arr_empty = np.empty_like(arr)\n",
    "print(arr_empty)"
   ]
  },
  {
   "cell_type": "markdown",
   "metadata": {},
   "source": [
    "## 5. 배열 조건 생성"
   ]
  },
  {
   "cell_type": "markdown",
   "metadata": {},
   "source": [
    "### 5-1. np.linespace()\n",
    "- start ~ stop 범위를 가진 num개의 데이터를 균일한 갈격을 갖도록 생성을 한다."
   ]
  },
  {
   "cell_type": "code",
   "execution_count": 19,
   "metadata": {},
   "outputs": [
    {
     "name": "stdout",
     "output_type": "stream",
     "text": [
      "[0.         0.11111111 0.22222222 0.33333333 0.44444444 0.55555556\n",
      " 0.66666667 0.77777778 0.88888889 1.        ]\n"
     ]
    },
    {
     "data": {
      "text/plain": [
       "[<matplotlib.lines.Line2D at 0x11f988940>]"
      ]
     },
     "execution_count": 19,
     "metadata": {},
     "output_type": "execute_result"
    },
    {
     "data": {
      "image/png": "[encoded data removed]",
      "text/plain": [
       "<Figure size 432x288 with 1 Axes>"
      ]
     },
     "metadata": {
      "needs_background": "light"
     },
     "output_type": "display_data"
    }
   ],
   "source": [
    "a_lin = np.linspace(0, 1, 10)\n",
    "print(a_lin)\n",
    "plt.plot(a_lin, 'ro')"
   ]
  },
  {
   "cell_type": "markdown",
   "metadata": {},
   "source": [
    "### 5-3. np.arange()\n",
    "- start ~ stop 미만의 범위를 가진 데이터를 num만큼의 데이터 간격으로 생성을 한다."
   ]
  },
  {
   "cell_type": "code",
   "execution_count": 20,
   "metadata": {},
   "outputs": [
    {
     "name": "stdout",
     "output_type": "stream",
     "text": [
      "[ 0.  2.  4.  6.  8. 10. 12. 14. 16. 18.]\n",
      "arr_arange의 크기 :  [ 0.  2.  4.  6.  8. 10. 12. 14. 16. 18.]\n"
     ]
    },
    {
     "data": {
      "text/plain": [
       "[<matplotlib.lines.Line2D at 0x11fa28b38>]"
      ]
     },
     "execution_count": 20,
     "metadata": {},
     "output_type": "execute_result"
    },
    {
     "data": {
      "image/png": "[encoded data removed]",
      "text/plain": [
       "<Figure size 432x288 with 1 Axes>"
      ]
     },
     "metadata": {
      "needs_background": "light"
     },
     "output_type": "display_data"
    }
   ],
   "source": [
    "arr_arange = np.arange(0, 20, 2, dtype='float32')\n",
    "print(arr_arange)\n",
    "print(\"arr_arange의 크기 : \", arr_arange)\n",
    "plt.plot(arr_arange, 'bo')"
   ]
  },
  {
   "cell_type": "markdown",
   "metadata": {},
   "source": [
    "### 5-4. arr.logspace()\n",
    "- 우리가 잘 아는 log스케일을 그려주는 함수이다.\n",
    "- start ~ stop의 범위 내에서 num개의 개수만큼 균일한 간격으로 데이터를 생성한다."
   ]
  },
  {
   "cell_type": "code",
   "execution_count": 21,
   "metadata": {},
   "outputs": [
    {
     "name": "stdout",
     "output_type": "stream",
     "text": [
      "arr_log의 크기 :  (20,)\n",
      "[ 1.         1.128838   1.274275   1.4384499  1.6237768  1.8329808\n",
      "  2.069138   2.3357215  2.6366508  2.9763515  3.3598182  3.7926903\n",
      "  4.2813325  4.83293    5.455595   6.158482   6.951928   7.8475995\n",
      "  8.858668  10.       ]\n"
     ]
    },
    {
     "data": {
      "text/plain": [
       "[<matplotlib.lines.Line2D at 0x11fb0b438>]"
      ]
     },
     "execution_count": 21,
     "metadata": {},
     "output_type": "execute_result"
    },
    {
     "data": {
      "image/png": "[encoded data removed]",
      "text/plain": [
       "<Figure size 432x288 with 1 Axes>"
      ]
     },
     "metadata": {
      "needs_background": "light"
     },
     "output_type": "display_data"
    }
   ],
   "source": [
    "arr_log = np.logspace(0, 1, 20, dtype='float32')\n",
    "print(\"arr_log의 크기 : \", arr_log.shape)\n",
    "print(arr_log)\n",
    "plt.plot(arr_log, 'bo')"
   ]
  },
  {
   "cell_type": "markdown",
   "metadata": {},
   "source": [
    "## 6. 난수 배열 생성"
   ]
  },
  {
   "cell_type": "markdown",
   "metadata": {},
   "source": [
    "### 6-1. np.random.normal\n",
    "우리가 잘 알고있는 **_가우시안 분포_** 즉, 정규분포 확률 밀도값에서 값을 랜덤하게 추출하는 방법이다.\n",
    "> np.random.normal(loc = 0.0, scale=1.0, size=none)\n",
    ">> - loc : 정규 분포의 mean\n",
    ">> - scale : 표준편차"
   ]
  },
  {
   "cell_type": "markdown",
   "metadata": {},
   "source": [
    "#### 1) 평균=0, 표준편차=1을 갖는 (3,4)크기의 정규분포를 랜덤하게 뽑아서 도표로 그려보기"
   ]
  },
  {
   "cell_type": "code",
   "execution_count": 22,
   "metadata": {},
   "outputs": [
    {
     "name": "stdout",
     "output_type": "stream",
     "text": [
      "arr_normal의 크기 :  (3, 4)\n",
      "[[-0.3281902   0.75016227  0.69453266 -0.36914267]\n",
      " [ 0.49723329 -1.34667087  0.43162071 -0.18678185]\n",
      " [ 0.70056558  0.35529406 -0.49011473  0.17924215]]\n"
     ]
    },
    {
     "data": {
      "image/png": "[encoded data removed]",
      "text/plain": [
       "<Figure size 432x288 with 1 Axes>"
      ]
     },
     "metadata": {
      "needs_background": "light"
     },
     "output_type": "display_data"
    }
   ],
   "source": [
    "mean = 0\n",
    "std = 1\n",
    "arr_normal = np.random.normal(mean, std, (3, 4))\n",
    "print(\"arr_normal의 크기 : \", arr_normal.shape)\n",
    "print(arr_normal)\n",
    "plt.hist(arr_normal)\n",
    "plt.show()"
   ]
  },
  {
   "cell_type": "markdown",
   "metadata": {},
   "source": [
    "#### 2) 평균=0, 표준편차=1을 갖는 분포에서 10000개의 표본을 뽑아서 그려보기"
   ]
  },
  {
   "cell_type": "code",
   "execution_count": 23,
   "metadata": {},
   "outputs": [
    {
     "data": {
      "image/png": "[encoded data removed]",
      "text/plain": [
       "<Figure size 432x288 with 1 Axes>"
      ]
     },
     "metadata": {
      "needs_background": "light"
     },
     "output_type": "display_data"
    }
   ],
   "source": [
    "mean = 0\n",
    "std = 1\n",
    "arr_normal = np.random.normal(mean, std, 10000)\n",
    "plt.hist(arr_normal, bins=100)\n",
    "plt.show()"
   ]
  },
  {
   "cell_type": "markdown",
   "metadata": {},
   "source": [
    "### 6-2.np.random.rand()\n",
    "0 ~ 1의 값을 갖는 분포에서 표본을 추출하는 방법.\n",
    "> Uniform Distribution(= Gaussian Normal Distribution)"
   ]
  },
  {
   "cell_type": "code",
   "execution_count": 24,
   "metadata": {},
   "outputs": [
    {
     "name": "stdout",
     "output_type": "stream",
     "text": [
      "[[0.12487971 0.37467625 0.2631511  0.33258783]\n",
      " [0.47418631 0.42441382 0.4471422  0.28798782]\n",
      " [0.00510995 0.39110345 0.85816438 0.07371965]]\n"
     ]
    },
    {
     "data": {
      "image/png": "[encoded data removed]",
      "text/plain": [
       "<Figure size 432x288 with 1 Axes>"
      ]
     },
     "metadata": {
      "needs_background": "light"
     },
     "output_type": "display_data"
    }
   ],
   "source": [
    "arr_uni = np.random.rand(3, 4)\n",
    "print(arr_uni)\n",
    "plt.hist(arr_uni)\n",
    "plt.show()"
   ]
  },
  {
   "cell_type": "code",
   "execution_count": 25,
   "metadata": {},
   "outputs": [
    {
     "name": "stdout",
     "output_type": "stream",
     "text": [
      "(10000,)\n"
     ]
    },
    {
     "data": {
      "image/png": "[encoded data removed]",
      "text/plain": [
       "<Figure size 432x288 with 1 Axes>"
      ]
     },
     "metadata": {
      "needs_background": "light"
     },
     "output_type": "display_data"
    }
   ],
   "source": [
    "arr_uni = np.random.rand(10000)\n",
    "print(arr_uni.shape)\n",
    "plt.hist(arr_uni, bins=100)\n",
    "plt.show()"
   ]
  },
  {
   "cell_type": "markdown",
   "metadata": {},
   "source": [
    "### 6-3. np.random.randn()\n",
    "- 표준 정규 분포(standard normal distribution)에서 표본 추출.\n",
    "- 종모양이다"
   ]
  },
  {
   "cell_type": "code",
   "execution_count": 26,
   "metadata": {},
   "outputs": [
    {
     "name": "stdout",
     "output_type": "stream",
     "text": [
      "(3, 4)\n",
      "[[ 0.84430686  0.36976074  0.83197871  1.37953304]\n",
      " [ 1.73144248  0.16051718 -0.3210432  -0.15583462]\n",
      " [-1.63302271  1.62774137 -1.20277201  2.23077768]]\n"
     ]
    }
   ],
   "source": [
    "arr_randn = np.random.randn(3, 4)\n",
    "print(arr_randn.shape)\n",
    "print(arr_randn)"
   ]
  },
  {
   "cell_type": "code",
   "execution_count": 27,
   "metadata": {},
   "outputs": [
    {
     "data": {
      "image/png": "[encoded data removed]",
      "text/plain": [
       "<Figure size 432x288 with 1 Axes>"
      ]
     },
     "metadata": {
      "needs_background": "light"
     },
     "output_type": "display_data"
    }
   ],
   "source": [
    "arr_randn = np.random.randn(10000)\n",
    "plt.hist(arr_randn, bins=10)\n",
    "plt.show()"
   ]
  },
  {
   "cell_type": "markdown",
   "metadata": {},
   "source": [
    "### 6-4.np.random.randint\n",
    "- low ~ high 미만의 범위에서 int형 표본을 추출"
   ]
  },
  {
   "cell_type": "code",
   "execution_count": 28,
   "metadata": {},
   "outputs": [
    {
     "name": "stdout",
     "output_type": "stream",
     "text": [
      "(3, 4)\n",
      "[[7 8 3 5]\n",
      " [4 7 7 5]\n",
      " [6 3 2 6]]\n"
     ]
    }
   ],
   "source": [
    "arr_int = np.random.randint(2, 10, size=(3, 4))\n",
    "print(arr_int.shape)\n",
    "print(arr_int)"
   ]
  },
  {
   "cell_type": "markdown",
   "metadata": {},
   "source": [
    "-1000 ~ 1000사이에서 정수를 균든하게 10000개 표본 추출을 한 결과 균등한 분포를 갖도록 추출하는것을 볼 수 있다."
   ]
  },
  {
   "cell_type": "code",
   "execution_count": 29,
   "metadata": {},
   "outputs": [
    {
     "data": {
      "image/png": "[encoded data removed]",
      "text/plain": [
       "<Figure size 432x288 with 1 Axes>"
      ]
     },
     "metadata": {
      "needs_background": "light"
     },
     "output_type": "display_data"
    }
   ],
   "source": [
    "arr_int = np.random.randint(-1000, 1000, 10000)\n",
    "plt.hist(arr_int, bins=10)\n",
    "plt.show()"
   ]
  },
  {
   "cell_type": "code",
   "execution_count": null,
   "metadata": {},
   "outputs": [],
   "source": []
  }
 ],
 "metadata": {
  "kernelspec": {
   "display_name": "Python 3",
   "language": "python",
   "name": "python3"
  },
  "language_info": {
   "codemirror_mode": {
    "name": "ipython",
    "version": 3
   },
   "file_extension": ".py",
   "mimetype": "text/x-python",
   "name": "python",
   "nbconvert_exporter": "python",
   "pygments_lexer": "ipython3",
   "version": "3.7.0"
  }
 },
 "nbformat": 4,
 "nbformat_minor": 4
}
